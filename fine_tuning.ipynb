{
 "cells": [
  {
   "cell_type": "markdown",
   "metadata": {},
   "source": [
    "https://github.com/ultralytics/yolov5/blob/master/tutorial.ipynb\n",
    "\n",
    "\n",
    "\n",
    "https://github.com/ultralytics/yolov5\n",
    "\n",
    "\n",
    "See the YOLOv5 Docs for full documentation on training, testing and deployment. See below for quickstart examples.\n",
    "\n",
    "Install\n",
    "Clone repo and install requirements.txt in a Python>=3.8.0 environment, including PyTorch>=1.8.\n",
    "\n",
    "git clone https://github.com/ultralytics/yolov5  # clone\n",
    "cd yolov5\n",
    "pip install -r requirements.txt  # install\n",
    "\n",
    "\n",
    "Tutorials\n",
    "Train Custom Data 🚀 RECOMMENDED  ***\n",
    "Tips for Best Training Results ☘️\n",
    "Multi-GPU Training  ***\n",
    "PyTorch Hub 🌟 NEW\n",
    "TFLite, ONNX, CoreML, TensorRT Export 🚀\n",
    "NVIDIA Jetson platform Deployment 🌟 NEW\n",
    "Test-Time Augmentation (TTA)\n",
    "Model Ensembling\n",
    "Model Pruning/Sparsity\n",
    "Hyperparameter Evolution\n",
    "Transfer Learning with Frozen Layers  ***\n",
    "Architecture Summary 🌟 NEW\n",
    "Ultralytics HUB to train and deploy YOLO 🚀 RECOMMENDED\n",
    "ClearML Logging\n",
    "YOLOv5 with Neural Magic's Deepsparse\n",
    "Comet Logging 🌟 NEW\n"
   ]
  },
  {
   "cell_type": "code",
   "execution_count": null,
   "metadata": {
    "vscode": {
     "languageId": "plaintext"
    }
   },
   "outputs": [],
   "source": []
  }
 ],
 "metadata": {
  "language_info": {
   "name": "python"
  }
 },
 "nbformat": 4,
 "nbformat_minor": 2
}
